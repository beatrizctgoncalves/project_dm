{
 "cells": [
  {
   "cell_type": "markdown",
   "id": "23a8d61e",
   "metadata": {},
   "source": [
    "# Data Mining Final Project 2021 - 2022\n",
    "## Authors: Beatriz Gonçalves (m20210695), Diogo Hipólito (m20210633) and Diogo Pereira (m20210657)"
   ]
  },
  {
   "cell_type": "markdown",
   "id": "364e3e01",
   "metadata": {},
   "source": [
    "# 1) Introduction"
   ]
  },
  {
   "cell_type": "markdown",
   "id": "f2438ae8",
   "metadata": {},
   "source": [
    "The client, a Marketing Department from an an insurance company, wishes to better understand the scope of its clients, in order to better serve them and increase their ROI (Return On Investment). The group was given an ABT (Analytic Based Table), consisting of 10.290 customers and given the task of analyzing the table for evident groups of clusters, extracting the behaviour of said clusters and provide insights on how to better serve them.\n",
    "\n",
    "The project is contained within a Github repository which can be accessed through the following link: https://github.com/beatrizctgoncalves/project_dm. This repository provides a Jupyter Notebook with all the relevant analysis and a report that summarizes the work done. Note that these two documents should be used together as they complement each other."
   ]
  },
  {
   "cell_type": "markdown",
   "id": "f5fda0c8",
   "metadata": {},
   "source": [
    "## 1.1) Importing Packages"
   ]
  },
  {
   "cell_type": "code",
   "execution_count": 47,
   "id": "4d58553b",
   "metadata": {},
   "outputs": [],
   "source": [
    "# Required imports for the project\n",
    "#!pip install sas7bdat\n",
    "\n",
    "from sas7bdat import SAS7BDAT\n",
    "import numpy as np\n",
    "import pandas as pd\n",
    "import sqlite3\n",
    "import seaborn as sns\n",
    "import matplotlib.pyplot as plt\n",
    "from math import ceil"
   ]
  },
  {
   "cell_type": "markdown",
   "id": "c81dd6da",
   "metadata": {},
   "source": [
    "# 2) Importing and Assessing Data"
   ]
  },
  {
   "cell_type": "code",
   "execution_count": 48,
   "id": "35691b38",
   "metadata": {},
   "outputs": [],
   "source": [
    "df_insurance = pd.read_sas('a2z_insurance.sas7bdat')\n",
    "conn = sqlite3.connect('a2z_insurance.db')\n",
    "cursor = conn.cursor()\n",
    "\n",
    "# Build Analytical Base Table (ABT)\n",
    "df_insurance.to_sql(name='file', con=conn, if_exists='replace', index=False)"
   ]
  },
  {
   "cell_type": "code",
   "execution_count": 49,
   "id": "2c700247",
   "metadata": {
    "scrolled": true
   },
   "outputs": [
    {
     "data": {
      "text/html": [
       "<div>\n",
       "<style scoped>\n",
       "    .dataframe tbody tr th:only-of-type {\n",
       "        vertical-align: middle;\n",
       "    }\n",
       "\n",
       "    .dataframe tbody tr th {\n",
       "        vertical-align: top;\n",
       "    }\n",
       "\n",
       "    .dataframe thead th {\n",
       "        text-align: right;\n",
       "    }\n",
       "</style>\n",
       "<table border=\"1\" class=\"dataframe\">\n",
       "  <thead>\n",
       "    <tr style=\"text-align: right;\">\n",
       "      <th></th>\n",
       "      <th>CustID</th>\n",
       "      <th>FirstPolYear</th>\n",
       "      <th>BirthYear</th>\n",
       "      <th>EducDeg</th>\n",
       "      <th>MonthSal</th>\n",
       "      <th>GeoLivArea</th>\n",
       "      <th>Children</th>\n",
       "      <th>CustMonVal</th>\n",
       "      <th>ClaimsRate</th>\n",
       "      <th>PremMotor</th>\n",
       "      <th>PremHousehold</th>\n",
       "      <th>PremHealth</th>\n",
       "      <th>PremLife</th>\n",
       "      <th>PremWork</th>\n",
       "    </tr>\n",
       "  </thead>\n",
       "  <tbody>\n",
       "    <tr>\n",
       "      <th>0</th>\n",
       "      <td>1.0</td>\n",
       "      <td>1985.0</td>\n",
       "      <td>1982.0</td>\n",
       "      <td>b'2 - High School'</td>\n",
       "      <td>2177.0</td>\n",
       "      <td>1.0</td>\n",
       "      <td>1.0</td>\n",
       "      <td>380.97</td>\n",
       "      <td>0.39</td>\n",
       "      <td>375.85</td>\n",
       "      <td>79.45</td>\n",
       "      <td>146.36</td>\n",
       "      <td>47.01</td>\n",
       "      <td>16.89</td>\n",
       "    </tr>\n",
       "    <tr>\n",
       "      <th>1</th>\n",
       "      <td>2.0</td>\n",
       "      <td>1981.0</td>\n",
       "      <td>1995.0</td>\n",
       "      <td>b'2 - High School'</td>\n",
       "      <td>677.0</td>\n",
       "      <td>4.0</td>\n",
       "      <td>1.0</td>\n",
       "      <td>-131.13</td>\n",
       "      <td>1.12</td>\n",
       "      <td>77.46</td>\n",
       "      <td>416.20</td>\n",
       "      <td>116.69</td>\n",
       "      <td>194.48</td>\n",
       "      <td>106.13</td>\n",
       "    </tr>\n",
       "    <tr>\n",
       "      <th>2</th>\n",
       "      <td>3.0</td>\n",
       "      <td>1991.0</td>\n",
       "      <td>1970.0</td>\n",
       "      <td>b'1 - Basic'</td>\n",
       "      <td>2277.0</td>\n",
       "      <td>3.0</td>\n",
       "      <td>0.0</td>\n",
       "      <td>504.67</td>\n",
       "      <td>0.28</td>\n",
       "      <td>206.15</td>\n",
       "      <td>224.50</td>\n",
       "      <td>124.58</td>\n",
       "      <td>86.35</td>\n",
       "      <td>99.02</td>\n",
       "    </tr>\n",
       "    <tr>\n",
       "      <th>3</th>\n",
       "      <td>4.0</td>\n",
       "      <td>1990.0</td>\n",
       "      <td>1981.0</td>\n",
       "      <td>b'3 - BSc/MSc'</td>\n",
       "      <td>1099.0</td>\n",
       "      <td>4.0</td>\n",
       "      <td>1.0</td>\n",
       "      <td>-16.99</td>\n",
       "      <td>0.99</td>\n",
       "      <td>182.48</td>\n",
       "      <td>43.35</td>\n",
       "      <td>311.17</td>\n",
       "      <td>35.34</td>\n",
       "      <td>28.34</td>\n",
       "    </tr>\n",
       "    <tr>\n",
       "      <th>4</th>\n",
       "      <td>5.0</td>\n",
       "      <td>1986.0</td>\n",
       "      <td>1973.0</td>\n",
       "      <td>b'3 - BSc/MSc'</td>\n",
       "      <td>1763.0</td>\n",
       "      <td>4.0</td>\n",
       "      <td>1.0</td>\n",
       "      <td>35.23</td>\n",
       "      <td>0.90</td>\n",
       "      <td>338.62</td>\n",
       "      <td>47.80</td>\n",
       "      <td>182.59</td>\n",
       "      <td>18.78</td>\n",
       "      <td>41.45</td>\n",
       "    </tr>\n",
       "  </tbody>\n",
       "</table>\n",
       "</div>"
      ],
      "text/plain": [
       "   CustID  FirstPolYear  BirthYear             EducDeg  MonthSal  GeoLivArea  \\\n",
       "0     1.0        1985.0     1982.0  b'2 - High School'    2177.0         1.0   \n",
       "1     2.0        1981.0     1995.0  b'2 - High School'     677.0         4.0   \n",
       "2     3.0        1991.0     1970.0        b'1 - Basic'    2277.0         3.0   \n",
       "3     4.0        1990.0     1981.0      b'3 - BSc/MSc'    1099.0         4.0   \n",
       "4     5.0        1986.0     1973.0      b'3 - BSc/MSc'    1763.0         4.0   \n",
       "\n",
       "   Children  CustMonVal  ClaimsRate  PremMotor  PremHousehold  PremHealth  \\\n",
       "0       1.0      380.97        0.39     375.85          79.45      146.36   \n",
       "1       1.0     -131.13        1.12      77.46         416.20      116.69   \n",
       "2       0.0      504.67        0.28     206.15         224.50      124.58   \n",
       "3       1.0      -16.99        0.99     182.48          43.35      311.17   \n",
       "4       1.0       35.23        0.90     338.62          47.80      182.59   \n",
       "\n",
       "   PremLife  PremWork  \n",
       "0     47.01     16.89  \n",
       "1    194.48    106.13  \n",
       "2     86.35     99.02  \n",
       "3     35.34     28.34  \n",
       "4     18.78     41.45  "
      ]
     },
     "execution_count": 49,
     "metadata": {},
     "output_type": "execute_result"
    }
   ],
   "source": [
    "# Dataset head\n",
    "df_insurance.head()"
   ]
  },
  {
   "cell_type": "code",
   "execution_count": 50,
   "id": "549d279f",
   "metadata": {},
   "outputs": [],
   "source": [
    "df_insurance.set_index(\"CustID\",inplace=True)"
   ]
  },
  {
   "cell_type": "code",
   "execution_count": 51,
   "id": "00670e99",
   "metadata": {},
   "outputs": [
    {
     "data": {
      "text/plain": [
       "(10296, 13)"
      ]
     },
     "execution_count": 51,
     "metadata": {},
     "output_type": "execute_result"
    }
   ],
   "source": [
    "# Get dimension of the dataset\n",
    "df_insurance.shape"
   ]
  },
  {
   "cell_type": "code",
   "execution_count": 52,
   "id": "9542aaa9",
   "metadata": {
    "scrolled": true
   },
   "outputs": [
    {
     "name": "stdout",
     "output_type": "stream",
     "text": [
      "<class 'pandas.core.frame.DataFrame'>\n",
      "Float64Index: 10296 entries, 1.0 to 10296.0\n",
      "Data columns (total 13 columns):\n",
      " #   Column         Non-Null Count  Dtype  \n",
      "---  ------         --------------  -----  \n",
      " 0   FirstPolYear   10266 non-null  float64\n",
      " 1   BirthYear      10279 non-null  float64\n",
      " 2   EducDeg        10279 non-null  object \n",
      " 3   MonthSal       10260 non-null  float64\n",
      " 4   GeoLivArea     10295 non-null  float64\n",
      " 5   Children       10275 non-null  float64\n",
      " 6   CustMonVal     10296 non-null  float64\n",
      " 7   ClaimsRate     10296 non-null  float64\n",
      " 8   PremMotor      10262 non-null  float64\n",
      " 9   PremHousehold  10296 non-null  float64\n",
      " 10  PremHealth     10253 non-null  float64\n",
      " 11  PremLife       10192 non-null  float64\n",
      " 12  PremWork       10210 non-null  float64\n",
      "dtypes: float64(12), object(1)\n",
      "memory usage: 1.1+ MB\n"
     ]
    }
   ],
   "source": [
    "# Get data types and \n",
    "df_insurance.info()"
   ]
  },
  {
   "cell_type": "code",
   "execution_count": 53,
   "id": "73374626",
   "metadata": {},
   "outputs": [
    {
     "data": {
      "text/plain": [
       "3"
      ]
     },
     "execution_count": 53,
     "metadata": {},
     "output_type": "execute_result"
    }
   ],
   "source": [
    "# Check for duplicates\n",
    "df_insurance.duplicated().sum()"
   ]
  },
  {
   "cell_type": "code",
   "execution_count": 54,
   "id": "f3cbb7e6",
   "metadata": {},
   "outputs": [],
   "source": [
    "#Seems like there are 3 duplicates in our data, let's remove them\n",
    "df_insurance = df_insurance[df_insurance.duplicated()==False]"
   ]
  },
  {
   "cell_type": "code",
   "execution_count": 86,
   "id": "94247a74",
   "metadata": {},
   "outputs": [],
   "source": [
    "df_insurance = df_insurance.astype({\"GeoLivArea\": object, \"Children\": object})"
   ]
  },
  {
   "cell_type": "code",
   "execution_count": 87,
   "id": "6100fd3d",
   "metadata": {},
   "outputs": [
    {
     "name": "stdout",
     "output_type": "stream",
     "text": [
      "Non metric features: \n",
      "['EducDeg', 'GeoLivArea', 'Children']\n",
      "Metric features: \n",
      "Index(['BirthYear', 'ClaimsRate', 'CustMonVal', 'FirstPolYear', 'MonthSal',\n",
      "       'PremHealth', 'PremHousehold', 'PremLife', 'PremMotor', 'PremWork'],\n",
      "      dtype='object')\n"
     ]
    }
   ],
   "source": [
    "#First divide the variables into metric and non-metric\n",
    "non_metric_features = [\"EducDeg\",\"GeoLivArea\",\"Children\"]\n",
    "metric_features = df_insurance.columns.difference(non_metric_features)\n",
    "\n",
    "print(\"Non metric features: \")\n",
    "print(non_metric_features)\n",
    "\n",
    "print(\"Metric features: \")\n",
    "print(metric_features)"
   ]
  },
  {
   "cell_type": "code",
   "execution_count": 88,
   "id": "02651cb9",
   "metadata": {
    "scrolled": false
   },
   "outputs": [
    {
     "data": {
      "text/html": [
       "<div>\n",
       "<style scoped>\n",
       "    .dataframe tbody tr th:only-of-type {\n",
       "        vertical-align: middle;\n",
       "    }\n",
       "\n",
       "    .dataframe tbody tr th {\n",
       "        vertical-align: top;\n",
       "    }\n",
       "\n",
       "    .dataframe thead th {\n",
       "        text-align: right;\n",
       "    }\n",
       "</style>\n",
       "<table border=\"1\" class=\"dataframe\">\n",
       "  <thead>\n",
       "    <tr style=\"text-align: right;\">\n",
       "      <th></th>\n",
       "      <th>count</th>\n",
       "      <th>mean</th>\n",
       "      <th>std</th>\n",
       "      <th>min</th>\n",
       "      <th>25%</th>\n",
       "      <th>50%</th>\n",
       "      <th>75%</th>\n",
       "      <th>max</th>\n",
       "      <th>missing values</th>\n",
       "    </tr>\n",
       "  </thead>\n",
       "  <tbody>\n",
       "    <tr>\n",
       "      <th>BirthYear</th>\n",
       "      <td>10276.0</td>\n",
       "      <td>1968.006909</td>\n",
       "      <td>19.710742</td>\n",
       "      <td>1028.00</td>\n",
       "      <td>1953.00</td>\n",
       "      <td>1968.00</td>\n",
       "      <td>1983.00</td>\n",
       "      <td>2001.00</td>\n",
       "      <td>17</td>\n",
       "    </tr>\n",
       "    <tr>\n",
       "      <th>ClaimsRate</th>\n",
       "      <td>10293.0</td>\n",
       "      <td>0.742728</td>\n",
       "      <td>2.917385</td>\n",
       "      <td>0.00</td>\n",
       "      <td>0.39</td>\n",
       "      <td>0.72</td>\n",
       "      <td>0.98</td>\n",
       "      <td>256.20</td>\n",
       "      <td>0</td>\n",
       "    </tr>\n",
       "    <tr>\n",
       "      <th>CustMonVal</th>\n",
       "      <td>10293.0</td>\n",
       "      <td>177.929963</td>\n",
       "      <td>1946.091554</td>\n",
       "      <td>-165680.42</td>\n",
       "      <td>-9.44</td>\n",
       "      <td>187.03</td>\n",
       "      <td>399.86</td>\n",
       "      <td>11875.89</td>\n",
       "      <td>0</td>\n",
       "    </tr>\n",
       "    <tr>\n",
       "      <th>FirstPolYear</th>\n",
       "      <td>10263.0</td>\n",
       "      <td>1991.064893</td>\n",
       "      <td>511.342617</td>\n",
       "      <td>1974.00</td>\n",
       "      <td>1980.00</td>\n",
       "      <td>1986.00</td>\n",
       "      <td>1992.00</td>\n",
       "      <td>53784.00</td>\n",
       "      <td>30</td>\n",
       "    </tr>\n",
       "    <tr>\n",
       "      <th>MonthSal</th>\n",
       "      <td>10257.0</td>\n",
       "      <td>2506.618699</td>\n",
       "      <td>1157.518390</td>\n",
       "      <td>333.00</td>\n",
       "      <td>1706.00</td>\n",
       "      <td>2502.00</td>\n",
       "      <td>3290.00</td>\n",
       "      <td>55215.00</td>\n",
       "      <td>36</td>\n",
       "    </tr>\n",
       "    <tr>\n",
       "      <th>PremHealth</th>\n",
       "      <td>10250.0</td>\n",
       "      <td>171.553183</td>\n",
       "      <td>296.444399</td>\n",
       "      <td>-2.11</td>\n",
       "      <td>111.80</td>\n",
       "      <td>162.81</td>\n",
       "      <td>219.04</td>\n",
       "      <td>28272.00</td>\n",
       "      <td>43</td>\n",
       "    </tr>\n",
       "    <tr>\n",
       "      <th>PremHousehold</th>\n",
       "      <td>10293.0</td>\n",
       "      <td>210.419863</td>\n",
       "      <td>352.635041</td>\n",
       "      <td>-75.00</td>\n",
       "      <td>49.45</td>\n",
       "      <td>132.80</td>\n",
       "      <td>290.05</td>\n",
       "      <td>25048.80</td>\n",
       "      <td>0</td>\n",
       "    </tr>\n",
       "    <tr>\n",
       "      <th>PremLife</th>\n",
       "      <td>10189.0</td>\n",
       "      <td>41.848724</td>\n",
       "      <td>47.484264</td>\n",
       "      <td>-7.00</td>\n",
       "      <td>9.89</td>\n",
       "      <td>25.56</td>\n",
       "      <td>57.79</td>\n",
       "      <td>398.30</td>\n",
       "      <td>104</td>\n",
       "    </tr>\n",
       "    <tr>\n",
       "      <th>PremMotor</th>\n",
       "      <td>10259.0</td>\n",
       "      <td>300.501550</td>\n",
       "      <td>211.937740</td>\n",
       "      <td>-4.11</td>\n",
       "      <td>190.59</td>\n",
       "      <td>298.61</td>\n",
       "      <td>408.30</td>\n",
       "      <td>11604.42</td>\n",
       "      <td>34</td>\n",
       "    </tr>\n",
       "    <tr>\n",
       "      <th>PremWork</th>\n",
       "      <td>10207.0</td>\n",
       "      <td>41.283712</td>\n",
       "      <td>51.519022</td>\n",
       "      <td>-12.00</td>\n",
       "      <td>10.67</td>\n",
       "      <td>25.67</td>\n",
       "      <td>56.79</td>\n",
       "      <td>1988.70</td>\n",
       "      <td>86</td>\n",
       "    </tr>\n",
       "  </tbody>\n",
       "</table>\n",
       "</div>"
      ],
      "text/plain": [
       "                 count         mean          std        min      25%      50%  \\\n",
       "BirthYear      10276.0  1968.006909    19.710742    1028.00  1953.00  1968.00   \n",
       "ClaimsRate     10293.0     0.742728     2.917385       0.00     0.39     0.72   \n",
       "CustMonVal     10293.0   177.929963  1946.091554 -165680.42    -9.44   187.03   \n",
       "FirstPolYear   10263.0  1991.064893   511.342617    1974.00  1980.00  1986.00   \n",
       "MonthSal       10257.0  2506.618699  1157.518390     333.00  1706.00  2502.00   \n",
       "PremHealth     10250.0   171.553183   296.444399      -2.11   111.80   162.81   \n",
       "PremHousehold  10293.0   210.419863   352.635041     -75.00    49.45   132.80   \n",
       "PremLife       10189.0    41.848724    47.484264      -7.00     9.89    25.56   \n",
       "PremMotor      10259.0   300.501550   211.937740      -4.11   190.59   298.61   \n",
       "PremWork       10207.0    41.283712    51.519022     -12.00    10.67    25.67   \n",
       "\n",
       "                   75%       max  missing values  \n",
       "BirthYear      1983.00   2001.00              17  \n",
       "ClaimsRate        0.98    256.20               0  \n",
       "CustMonVal      399.86  11875.89               0  \n",
       "FirstPolYear   1992.00  53784.00              30  \n",
       "MonthSal       3290.00  55215.00              36  \n",
       "PremHealth      219.04  28272.00              43  \n",
       "PremHousehold   290.05  25048.80               0  \n",
       "PremLife         57.79    398.30             104  \n",
       "PremMotor       408.30  11604.42              34  \n",
       "PremWork         56.79   1988.70              86  "
      ]
     },
     "execution_count": 88,
     "metadata": {},
     "output_type": "execute_result"
    }
   ],
   "source": [
    "desc_num = df_insurance[metric_features].describe().T\n",
    "missing = df_insurance.isnull().sum(axis=0)\n",
    "desc_num[\"missing values\"] = missing\n",
    "\n",
    "desc_num"
   ]
  },
  {
   "cell_type": "markdown",
   "id": "66501a4a",
   "metadata": {},
   "source": [
    "Problematic values:\n",
    "- BirthYear: min = 1028. That is impossible, that person would have to be almost 1000 years old\n",
    "- FirstPolYear: max = 53784. Impossible, there can't be data from the future\n",
    "- Every other variable: Looks like there are a lot of outliers. The difference between the 75th percentile and the max is signficant, so does between the 25th percentile and the min.\n",
    "\n",
    "Missing values: We will have to decide later on how to deal with the missing values, the PremLife variable specifically has a lot of missing values (104)."
   ]
  },
  {
   "cell_type": "code",
   "execution_count": 113,
   "id": "76a19c51",
   "metadata": {},
   "outputs": [
    {
     "data": {
      "text/html": [
       "<div>\n",
       "<style scoped>\n",
       "    .dataframe tbody tr th:only-of-type {\n",
       "        vertical-align: middle;\n",
       "    }\n",
       "\n",
       "    .dataframe tbody tr th {\n",
       "        vertical-align: top;\n",
       "    }\n",
       "\n",
       "    .dataframe thead th {\n",
       "        text-align: right;\n",
       "    }\n",
       "</style>\n",
       "<table border=\"1\" class=\"dataframe\">\n",
       "  <thead>\n",
       "    <tr style=\"text-align: right;\">\n",
       "      <th></th>\n",
       "      <th>count</th>\n",
       "      <th>unique</th>\n",
       "      <th>top</th>\n",
       "      <th>freq</th>\n",
       "      <th>mode</th>\n",
       "      <th>missing values</th>\n",
       "    </tr>\n",
       "  </thead>\n",
       "  <tbody>\n",
       "    <tr>\n",
       "      <th>EducDeg</th>\n",
       "      <td>10276</td>\n",
       "      <td>4</td>\n",
       "      <td>b'3 - BSc/MSc'</td>\n",
       "      <td>4799</td>\n",
       "      <td>b'3 - BSc/MSc'</td>\n",
       "      <td>17</td>\n",
       "    </tr>\n",
       "    <tr>\n",
       "      <th>GeoLivArea</th>\n",
       "      <td>10292.0</td>\n",
       "      <td>4.0</td>\n",
       "      <td>4.0</td>\n",
       "      <td>4142.0</td>\n",
       "      <td>4.0</td>\n",
       "      <td>1</td>\n",
       "    </tr>\n",
       "    <tr>\n",
       "      <th>Children</th>\n",
       "      <td>10272.0</td>\n",
       "      <td>2.0</td>\n",
       "      <td>1.0</td>\n",
       "      <td>7260.0</td>\n",
       "      <td>1.0</td>\n",
       "      <td>21</td>\n",
       "    </tr>\n",
       "  </tbody>\n",
       "</table>\n",
       "</div>"
      ],
      "text/plain": [
       "              count unique             top    freq            mode  \\\n",
       "EducDeg       10276      4  b'3 - BSc/MSc'    4799  b'3 - BSc/MSc'   \n",
       "GeoLivArea  10292.0    4.0             4.0  4142.0             4.0   \n",
       "Children    10272.0    2.0             1.0  7260.0             1.0   \n",
       "\n",
       "            missing values  \n",
       "EducDeg                 17  \n",
       "GeoLivArea               1  \n",
       "Children                21  "
      ]
     },
     "execution_count": 113,
     "metadata": {},
     "output_type": "execute_result"
    }
   ],
   "source": [
    "desc_cat= df_insurance[non_metric_features].describe().T\n",
    "mode = df_insurance[non_metric_features].mode().T\n",
    "desc_cat[\"mode\"] = mode\n",
    "desc_cat[\"missing values\"] = missing\n",
    "desc_cat"
   ]
  },
  {
   "cell_type": "markdown",
   "id": "9fe56ddd",
   "metadata": {},
   "source": [
    "There are some missing values, but nothing worrying"
   ]
  },
  {
   "cell_type": "code",
   "execution_count": null,
   "id": "1659b197",
   "metadata": {},
   "outputs": [],
   "source": []
  }
 ],
 "metadata": {
  "kernelspec": {
   "display_name": "Python 3",
   "language": "python",
   "name": "python3"
  },
  "language_info": {
   "codemirror_mode": {
    "name": "ipython",
    "version": 3
   },
   "file_extension": ".py",
   "mimetype": "text/x-python",
   "name": "python",
   "nbconvert_exporter": "python",
   "pygments_lexer": "ipython3",
   "version": "3.8.8"
  }
 },
 "nbformat": 4,
 "nbformat_minor": 5
}
